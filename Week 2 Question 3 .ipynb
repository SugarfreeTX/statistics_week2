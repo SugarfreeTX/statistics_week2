{
 "cells": [
  {
   "cell_type": "markdown",
   "metadata": {},
   "source": [
    "rows_2 = [row[2] for row in rows]\n",
    "distributors = {}\n",
    "for x in rows_2:  \n",
    "    distributors[x] = rows_2.count(x)\n",
    "    \n",
    "#print(distributors.keys())\n",
    "#print(distributors.values())\n",
    "print(distributors)\n",
    "#print(rows_2.count('Buena Vista'))"
   ]
  },
  {
   "cell_type": "code",
   "execution_count": 1,
   "metadata": {},
   "outputs": [],
   "source": [
    "f = open('data.txt')\n",
    "words = []\n",
    "for x in range(5):\n",
    "    text = f.readline()\n",
    "    text = text.rstrip('\\n')\n",
    "    splitted = text.strip(' ')\n",
    "    words.append(text)\n",
    "    #print(splitted)\n",
    "#print(words)"
   ]
  },
  {
   "cell_type": "code",
   "execution_count": 2,
   "metadata": {},
   "outputs": [
    {
     "name": "stdout",
     "output_type": "stream",
     "text": [
      "Overview\n",
      "Our mission is to give people the power to share and make the world more open and connected.\n",
      "Our business focuses on creating value for people, marketers, and developers.\n",
      "How We Create Value for People Who Use Facebook\n",
      "Our top priority is to build useful and engaging products that enable people to connect and share through mobile devices and personal computers. We also help people discover and learn about what is going on in the world around them, enable people to share their opinions, ideas, photos and videos, and other activities with audiences ranging from their closest friends to the public at large, and stay connected everywhere by accessing our products, including:\n",
      "\n",
      "Facebook. The Facebook mobile app and website enable people to connect, share, discover, and communicate with each other on mobile devices and personal computers. Facebook is free and available throughout the world. We had 890 million daily active users (DAUs) on average in December 2014 , an increase of 18% compared to December 2013 . We had 745 million  DAUs who accessed Facebook from a mobile device on average in December 2014 , an increase of 34% compared to December 2013.\n",
      "\n",
      "Instagram. Instagram is a mobile application that enables people to take photos or videos, customize them with filter effects, and share them with friends and followers in a photo feed or send them directly to friends.\n",
      "\n",
      "Messenger. Messenger is a mobile-to-mobile messaging application available on Android, iOS and Windows Phone devices. Messenger works similarly to texting (SMS) or online chat to enable people to reach others instantly and also seamlessly integrates with Facebook messaging functionality on personal computers.\n",
      "\n",
      "WhatsApp. WhatsApp Messenger is a cross-platform mobile messaging application that allows people to exchange messages on iOS, Android, BlackBerry, Windows Phone, and Nokia devices.\n",
      "\n",
      "How We Create Value for Marketers\n",
      "Facebook focuses on providing value for all kinds of marketers, including brand, direct response, small and medium-sized businesses, and developers. We help them achieve their business objectives, whether it is driving online sales, in-store sales, or awareness of their brand.\n",
      "\n",
      "We generate the substantial majority of our revenue from selling advertising placements to marketers. Our ads let marketers reach people on Facebook based on a variety of factors including age, gender, location, and interests. Marketers purchase ads that can appear in multiple places including in News Feed on mobile devices and personal computers, and on the right-hand side of personal computers.\n",
      "\n",
      "Our ad planning tools are designed to align with marketers' business goals. When marketers create an ad campaign on Facebook, they can specify their budget, marketing objectives and the types of people they want to reach. Facebook's ad serving technology then dynamically determines the best available ad to show each person based on those dimensions. Marketers can also use our platform's insights to measure and optimize both the in-store and online performance of their ad campaigns. These insights help marketers not only understand how their ads drove results but also help them make modifications to their ad campaigns to improve those results. In addition to ads on Facebook, marketers can buy ads on Instagram and on other websites and applications such as Audience Network, Atlas, and LiveRail.\n",
      "\n",
      "How We Create Value for Developers\n",
      "Facebook supports developersb \u0019 efforts to build, grow, and monetize their mobile and web applications. First, we provide a set of development tools and application programming interfaces (APIs) that enable developers to easily integrate with Facebook to create mobile and web applications across platforms and devices. Second, we help developers grow their mobile and web applications by providing them with tools, such as mobile application ads or social plugins, to increase the exposure, distribution and engagement of such applications. By using our tools for sharing, messaging, invites, requests, and mobile application ads, developers have a number of ways to drive application discovery and user engagement. Finally, we help developers monetize their web applications by providing an online Payments infrastructure that enables developers to receive payments from people who use Facebook in an easy-to-use, secure, and trusted environment, as well as from our Audience Network, where developers are able to monetize their mobile applications by showing ads from Facebook advertisers within their application.\n",
      "\n",
      "We generate revenue from developers who use our Payments infrastructure to sell virtual and digital goods to people who use Facebook on personal computers. We also generate revenue from developers who choose to purchase ads from us, and we receive a portion of the revenue from developers who show ads from Facebook advertisers in their applications within our Audience Network.\n"
     ]
    }
   ],
   "source": [
    "# This one prints the text as is. \n",
    "\n",
    "f = open('data.txt')\n",
    "words = []\n",
    "for line in f:\n",
    "    line = line.rstrip('\\n')    \n",
    "    print(line)\n",
    "#print(words)"
   ]
  },
  {
   "cell_type": "code",
   "execution_count": 3,
   "metadata": {},
   "outputs": [],
   "source": [
    "f = open(\"data.txt\")\n",
    "#text = get_text(text)\n",
    "\n",
    "\n",
    "def get_text(text):\n",
    "    for line in text:\n",
    "        line = line.rstrip('\\n') \n",
    "    return line \n",
    "\n",
    "\n"
   ]
  },
  {
   "cell_type": "code",
   "execution_count": 4,
   "metadata": {},
   "outputs": [],
   "source": [
    "def convert_to_str(text_list):\n",
    "    try:\n",
    "        return str(text_list)\n",
    "    except:\n",
    "        pass\n",
    "    "
   ]
  },
  {
   "cell_type": "code",
   "execution_count": 41,
   "metadata": {},
   "outputs": [
    {
     "name": "stdout",
     "output_type": "stream",
     "text": [
      "['Overview', 'Our business focuses on creating value for people, marketers, and developers.', 'Our top priority is to build useful and engaging products that enable people to connect and share through mobile devices and personal computers. We also help people discover and learn about what is going on in the world around them, enable people to share their opinions, ideas, photos and videos, and other activities with audiences ranging from their closest friends to the public at large, and stay connected everywhere by accessing our products, including:', 'Facebook. The Facebook mobile app and website enable people to connect, share, discover, and communicate with each other on mobile devices and personal computers. Facebook is free and available throughout the world. We had 890 million daily active users (DAUs) on average in December 2014 , an increase of 18% compared to December 2013 . We had 745 million  DAUs who accessed Facebook from a mobile device on average in December 2014 , an increase of 34% compared to December 2013.', 'Instagram. Instagram is a mobile application that enables people to take photos or videos, customize them with filter effects, and share them with friends and followers in a photo feed or send them directly to friends.', 'Messenger. Messenger is a mobile-to-mobile messaging application available on Android, iOS and Windows Phone devices. Messenger works similarly to texting (SMS) or online chat to enable people to reach others instantly and also seamlessly integrates with Facebook messaging functionality on personal computers.', 'WhatsApp. WhatsApp Messenger is a cross-platform mobile messaging application that allows people to exchange messages on iOS, Android, BlackBerry, Windows Phone, and Nokia devices.', 'How We Create Value for Marketers', '', '', '', 'Facebook supports developersb \\x19 efforts to build, grow, and monetize their mobile and web applications. First, we provide a set of development tools and application programming interfaces (APIs) that enable developers to easily integrate with Facebook to create mobile and web applications across platforms and devices. Second, we help developers grow their mobile and web applications by providing them with tools, such as mobile application ads or social plugins, to increase the exposure, distribution and engagement of such applications. By using our tools for sharing, messaging, invites, requests, and mobile application ads, developers have a number of ways to drive application discovery and user engagement. Finally, we help developers monetize their web applications by providing an online Payments infrastructure that enables developers to receive payments from people who use Facebook in an easy-to-use, secure, and trusted environment, as well as from our Audience Network, where developers are able to monetize their mobile applications by showing ads from Facebook advertisers within their application.', 'We generate revenue from developers who use our Payments infrastructure to sell virtual and digital goods to people who use Facebook on personal computers. We also generate revenue from developers who choose to purchase ads from us, and we receive a portion of the revenue from developers who show ads from Facebook advertisers in their applications within our Audience Network.']\n"
     ]
    }
   ],
   "source": [
    "f = open('data.txt')\n",
    "words = []\n",
    "for x in f:\n",
    "    text = f.readline()\n",
    "    text = text.rstrip('\\n')#.strip(' ')\n",
    "    words.append(x.rstrip('\\n'))\n",
    "    #print(x)\n",
    "print(words)\n"
   ]
  },
  {
   "cell_type": "code",
   "execution_count": 67,
   "metadata": {},
   "outputs": [
    {
     "name": "stdout",
     "output_type": "stream",
     "text": [
      "[\"'',\", \"'',\", \"'',\", \"'Facebook\", \"'Facebook.\", \"'How\", \"'Instagram.\", \"'Messenger.\", \"'Our\", \"'Our\", \"'We\", \"'WhatsApp.\", '(APIs)', '(DAUs)', '(SMS)', ',', ',', '.', '18%', '2013', \"2013.',\", '2014', '2014', '34%', '745', '890', 'a', 'a', 'a', 'a', 'a', 'a', 'a', 'a', 'able', 'about', 'accessed', 'accessing', 'across', 'active', 'activities', 'ads', 'ads', 'ads', 'ads', 'ads,', 'advertisers', 'advertisers', 'allows', 'also', 'also', 'also', 'an', 'an', 'an', 'an', 'and', 'and', 'and', 'and', 'and', 'and', 'and', 'and', 'and', 'and', 'and', 'and', 'and', 'and', 'and', 'and', 'and', 'and', 'and', 'and', 'and', 'and', 'and', 'and', 'and', 'and', 'and', 'and', 'and', 'Android,', 'Android,', 'app', 'application', 'application', 'application', 'application', 'application', 'application', 'application', \"application.',\", 'applications', 'applications', 'applications', 'applications', 'applications', 'applications.', 'applications.', 'are', 'around', 'as', 'as', 'as', 'at', 'Audience', 'Audience', 'audiences', 'available', 'available', 'average', 'average', 'BlackBerry,', 'build', 'build,', 'business', 'by', 'by', 'By', 'by', 'by', 'chat', 'choose', 'closest', 'communicate', 'compared', 'compared', 'computers.', 'computers.', 'computers.', \"computers.',\", 'connect', 'connect,', 'connected', 'Create', 'create', 'creating', 'cross-platform', 'customize', 'daily', 'DAUs', 'December', 'December', 'December', 'December', 'developers', 'developers', 'developers', 'developers', 'developers', 'developers', 'developers', 'developers', 'developers', \"developers.',\", 'developersb', 'development', 'device', 'devices', 'devices', 'devices.', 'devices.', \"devices.',\", 'digital', 'directly', 'discover', 'discover,', 'discovery', 'distribution', 'drive', 'each', 'easily', 'easy-to-use,', 'effects,', 'efforts', 'enable', 'enable', 'enable', 'enable', 'enable', 'enables', 'enables', 'engagement', 'engagement.', 'engaging', 'environment,', 'everywhere', 'exchange', 'exposure,', 'Facebook', 'Facebook', 'Facebook', 'Facebook', 'Facebook', 'Facebook', 'Facebook', 'Facebook', 'Facebook', 'feed', 'filter', 'Finally,', 'First,', 'focuses', 'followers', 'for', 'for', 'for', 'free', 'friends', 'friends', \"friends.',\", 'from', 'from', 'from', 'from', 'from', 'from', 'from', 'from', 'from', 'from', 'functionality', 'generate', 'generate', 'going', 'goods', 'grow', 'grow,', 'had', 'had', 'have', 'help', 'help', 'help', 'ideas,', 'in', 'in', 'in', 'in', 'in', 'in', \"including:',\", 'increase', 'increase', 'increase', 'infrastructure', 'infrastructure', 'Instagram', 'instantly', 'integrate', 'integrates', 'interfaces', 'invites,', 'iOS', 'iOS,', 'is', 'is', 'is', 'is', 'is', 'is', 'large,', 'learn', \"Marketers',\", 'marketers,', 'messages', 'messaging', 'messaging', 'messaging', 'messaging,', 'Messenger', 'Messenger', 'Messenger', 'million', 'million', 'mobile', 'mobile', 'mobile', 'mobile', 'mobile', 'mobile', 'mobile', 'mobile', 'mobile', 'mobile', 'mobile', 'mobile', 'mobile-to-mobile', 'monetize', 'monetize', 'monetize', 'Network,', \"Network.']\", 'Nokia', 'number', 'of', 'of', 'of', 'of', 'of', 'of', 'on', 'on', 'on', 'on', 'on', 'on', 'on', 'on', 'on', 'online', 'online', 'opinions,', 'or', 'or', 'or', 'or', 'other', 'other', 'others', 'our', 'our', 'our', 'our', 'our', 'Payments', 'payments', 'Payments', 'people', 'people', 'people', 'people', 'people', 'people', 'people', 'people', 'people', 'people,', 'personal', 'personal', 'personal', 'personal', 'Phone', 'Phone,', 'photo', 'photos', 'photos', 'platforms', 'plugins,', 'portion', 'priority', 'products', 'products,', 'programming', 'provide', 'providing', 'providing', 'public', 'purchase', 'ranging', 'reach', 'receive', 'receive', 'requests,', 'revenue', 'revenue', 'revenue', 'seamlessly', 'Second,', 'secure,', 'sell', 'send', 'set', 'share', 'share', 'share', 'share,', 'sharing,', 'show', 'showing', 'similarly', 'social', 'stay', 'such', 'such', 'supports', 'take', 'texting', 'that', 'that', 'that', 'that', 'that', 'the', 'the', 'The', 'the', 'the', 'the', 'their', 'their', 'their', 'their', 'their', 'their', 'their', 'their', 'them', 'them', 'them', 'them', 'them,', 'through', 'throughout', 'to', 'to', 'to', 'to', 'to', 'to', 'to', 'to', 'to', 'to', 'to', 'to', 'to', 'to', 'to', 'to', 'to', 'to', 'to', 'to', 'to', 'to', 'to', 'tools', 'tools', 'tools,', 'top', 'trusted', 'us,', 'use', 'use', 'use', 'useful', 'user', 'users', 'using', 'value', 'Value', 'videos,', 'videos,', 'virtual', 'ways', 'We', 'We', 'We', 'We', 'we', 'we', 'we', 'We', 'we', 'web', 'web', 'web', 'web', 'website', 'well', 'what', 'WhatsApp', 'where', 'who', 'who', 'who', 'who', 'who', 'who', 'Windows', 'Windows', 'with', 'with', 'with', 'with', 'with', 'with', 'with', 'within', 'within', 'works', 'world', 'world.', \"['Overview',\", '\\\\x19']\n"
     ]
    }
   ],
   "source": [
    "words_string = str(words)\n",
    "#print(words_string)\n",
    "line_sorted = sorted(words_string.split(), key=str.upper)\n",
    "print(line_sorted)"
   ]
  },
  {
   "cell_type": "code",
   "execution_count": 68,
   "metadata": {},
   "outputs": [
    {
     "name": "stdout",
     "output_type": "stream",
     "text": [
      "{\"'',\": 3, \"'Facebook\": 1, \"'Facebook.\": 1, \"'How\": 1, \"'Instagram.\": 1, \"'Messenger.\": 1, \"'Our\": 2, \"'We\": 1, \"'WhatsApp.\": 1, '(APIs)': 1, '(DAUs)': 1, '(SMS)': 1, ',': 2, '.': 1, '18%': 1, '2013': 1, \"2013.',\": 1, '2014': 2, '34%': 1, '745': 1, '890': 1, 'a': 8, 'able': 1, 'about': 1, 'accessed': 1, 'accessing': 1, 'across': 1, 'active': 1, 'activities': 1, 'ads': 4, 'ads,': 1, 'advertisers': 2, 'allows': 1, 'also': 3, 'an': 4, 'and': 29, 'Android,': 2, 'app': 1, 'application': 7, \"application.',\": 1, 'applications': 5, 'applications.': 2, 'are': 1, 'around': 1, 'as': 3, 'at': 1, 'Audience': 2, 'audiences': 1, 'available': 2, 'average': 2, 'BlackBerry,': 1, 'build': 1, 'build,': 1, 'business': 1, 'by': 4, 'By': 1, 'chat': 1, 'choose': 1, 'closest': 1, 'communicate': 1, 'compared': 2, 'computers.': 3, \"computers.',\": 1, 'connect': 1, 'connect,': 1, 'connected': 1, 'Create': 1, 'create': 1, 'creating': 1, 'cross-platform': 1, 'customize': 1, 'daily': 1, 'DAUs': 1, 'December': 4, 'developers': 9, \"developers.',\": 1, 'developersb': 1, 'development': 1, 'device': 1, 'devices': 2, 'devices.': 2, \"devices.',\": 1, 'digital': 1, 'directly': 1, 'discover': 1, 'discover,': 1, 'discovery': 1, 'distribution': 1, 'drive': 1, 'each': 1, 'easily': 1, 'easy-to-use,': 1, 'effects,': 1, 'efforts': 1, 'enable': 5, 'enables': 2, 'engagement': 1, 'engagement.': 1, 'engaging': 1, 'environment,': 1, 'everywhere': 1, 'exchange': 1, 'exposure,': 1, 'Facebook': 9, 'feed': 1, 'filter': 1, 'Finally,': 1, 'First,': 1, 'focuses': 1, 'followers': 1, 'for': 3, 'free': 1, 'friends': 2, \"friends.',\": 1, 'from': 10, 'functionality': 1, 'generate': 2, 'going': 1, 'goods': 1, 'grow': 1, 'grow,': 1, 'had': 2, 'have': 1, 'help': 3, 'ideas,': 1, 'in': 6, \"including:',\": 1, 'increase': 3, 'infrastructure': 2, 'Instagram': 1, 'instantly': 1, 'integrate': 1, 'integrates': 1, 'interfaces': 1, 'invites,': 1, 'iOS': 1, 'iOS,': 1, 'is': 6, 'large,': 1, 'learn': 1, \"Marketers',\": 1, 'marketers,': 1, 'messages': 1, 'messaging': 3, 'messaging,': 1, 'Messenger': 3, 'million': 2, 'mobile': 12, 'mobile-to-mobile': 1, 'monetize': 3, 'Network,': 1, \"Network.']\": 1, 'Nokia': 1, 'number': 1, 'of': 6, 'on': 9, 'online': 2, 'opinions,': 1, 'or': 4, 'other': 2, 'others': 1, 'our': 5, 'Payments': 2, 'payments': 1, 'people': 9, 'people,': 1, 'personal': 4, 'Phone': 1, 'Phone,': 1, 'photo': 1, 'photos': 2, 'platforms': 1, 'plugins,': 1, 'portion': 1, 'priority': 1, 'products': 1, 'products,': 1, 'programming': 1, 'provide': 1, 'providing': 2, 'public': 1, 'purchase': 1, 'ranging': 1, 'reach': 1, 'receive': 2, 'requests,': 1, 'revenue': 3, 'seamlessly': 1, 'Second,': 1, 'secure,': 1, 'sell': 1, 'send': 1, 'set': 1, 'share': 3, 'share,': 1, 'sharing,': 1, 'show': 1, 'showing': 1, 'similarly': 1, 'social': 1, 'stay': 1, 'such': 2, 'supports': 1, 'take': 1, 'texting': 1, 'that': 5, 'the': 5, 'The': 1, 'their': 8, 'them': 4, 'them,': 1, 'through': 1, 'throughout': 1, 'to': 23, 'tools': 2, 'tools,': 1, 'top': 1, 'trusted': 1, 'us,': 1, 'use': 3, 'useful': 1, 'user': 1, 'users': 1, 'using': 1, 'value': 1, 'Value': 1, 'videos,': 2, 'virtual': 1, 'ways': 1, 'We': 5, 'we': 4, 'web': 4, 'website': 1, 'well': 1, 'what': 1, 'WhatsApp': 1, 'where': 1, 'who': 6, 'Windows': 2, 'with': 7, 'within': 2, 'works': 1, 'world': 1, 'world.': 1, \"['Overview',\": 1, '\\\\x19': 1}\n"
     ]
    }
   ],
   "source": [
    "words_dict = {}\n",
    "for x in line_sorted:\n",
    "    words_dict[x] = line_sorted.count(x)\n",
    "print(words_dict)"
   ]
  },
  {
   "cell_type": "code",
   "execution_count": 8,
   "metadata": {},
   "outputs": [
    {
     "name": "stdout",
     "output_type": "stream",
     "text": [
      "dict_keys([\"'',\", \"'Facebook\", \"'Facebook.\", \"'How\"])\n",
      "dict_values([3, 1, 1, 1])\n"
     ]
    }
   ],
   "source": [
    "test_dict = {\"'',\": 3, \"'Facebook\": 1, \"'Facebook.\": 1, \"'How\": 1}\n",
    "print(test_dict.keys())\n",
    "print(test_dict.values())"
   ]
  },
  {
   "cell_type": "code",
   "execution_count": 9,
   "metadata": {},
   "outputs": [
    {
     "name": "stdout",
     "output_type": "stream",
     "text": [
      "We generate revenue from developers who use our Payments infrastructure to sell virtual and digital goods to people who use Facebook on personal computers. We also generate revenue from developers who choose to purchase ads from us, and we receive a portion of the revenue from developers who show ads from Facebook advertisers in their applications within our Audience Network.\n"
     ]
    }
   ],
   "source": [
    "f = open('data.txt')\n",
    "def main():\n",
    "    \n",
    "    testing_text = get_text(f)\n",
    "    print(testing_text)\n",
    "    \n",
    "def get_text(text): \n",
    "    for line in text:\n",
    "        line = line.rstrip('\\n') \n",
    "    return line \n",
    "\n",
    "main()"
   ]
  },
  {
   "cell_type": "code",
   "execution_count": 10,
   "metadata": {},
   "outputs": [],
   "source": [
    "f = open('data.txt')\n",
    "words = []\n",
    "for line in f:\n",
    "    line = line.rstrip('\\n')    \n",
    "    #print(line)\n",
    "    #line_sorted = sorted(line.split(), key=str.lower)\n",
    "    #print(line_sorted)\n",
    "    words_dict = {}\n",
    "    for x in line_sorted:\n",
    "        words_dict[x] = line_sorted.count(x)\n",
    "    #print(words_dict)\n",
    "#print(words)"
   ]
  },
  {
   "cell_type": "code",
   "execution_count": 29,
   "metadata": {},
   "outputs": [
    {
     "name": "stdout",
     "output_type": "stream",
     "text": [
      "['Overview']\n",
      "['and', 'and', 'connected.', 'give', 'is', 'make', 'mission', 'more', 'open', 'Our', 'people', 'power', 'share', 'the', 'the', 'to', 'to', 'world']\n",
      "['and', 'business', 'creating', 'developers.', 'focuses', 'for', 'marketers,', 'on', 'Our', 'people,', 'value']\n",
      "['Create', 'Facebook', 'for', 'How', 'People', 'Use', 'Value', 'We', 'Who']\n",
      "['about', 'accessing', 'activities', 'also', 'and', 'and', 'and', 'and', 'and', 'and', 'and', 'around', 'at', 'audiences', 'build', 'by', 'closest', 'computers.', 'connect', 'connected', 'devices', 'discover', 'enable', 'enable', 'engaging', 'everywhere', 'friends', 'from', 'going', 'help', 'ideas,', 'in', 'including:', 'is', 'is', 'large,', 'learn', 'mobile', 'on', 'opinions,', 'other', 'Our', 'our', 'people', 'people', 'people', 'personal', 'photos', 'priority', 'products', 'products,', 'public', 'ranging', 'share', 'share', 'stay', 'that', 'the', 'the', 'their', 'their', 'them,', 'through', 'to', 'to', 'to', 'to', 'top', 'useful', 'videos,', 'We', 'what', 'with', 'world']\n",
      "[]\n",
      "['(DAUs)', ',', ',', '.', '18%', '2013', '2013.', '2014', '2014', '34%', '745', '890', 'a', 'accessed', 'active', 'an', 'an', 'and', 'and', 'and', 'and', 'app', 'available', 'average', 'average', 'communicate', 'compared', 'compared', 'computers.', 'connect,', 'daily', 'DAUs', 'December', 'December', 'December', 'December', 'device', 'devices', 'discover,', 'each', 'enable', 'Facebook', 'Facebook', 'Facebook', 'Facebook.', 'free', 'from', 'had', 'had', 'in', 'in', 'increase', 'increase', 'is', 'million', 'million', 'mobile', 'mobile', 'mobile', 'of', 'of', 'on', 'on', 'on', 'other', 'people', 'personal', 'share,', 'The', 'the', 'throughout', 'to', 'to', 'to', 'users', 'We', 'We', 'website', 'who', 'with', 'world.']\n",
      "[]\n",
      "['a', 'a', 'and', 'and', 'application', 'customize', 'directly', 'effects,', 'enables', 'feed', 'filter', 'followers', 'friends', 'friends.', 'in', 'Instagram', 'Instagram.', 'is', 'mobile', 'or', 'or', 'people', 'photo', 'photos', 'send', 'share', 'take', 'that', 'them', 'them', 'them', 'to', 'to', 'videos,', 'with', 'with']\n",
      "[]\n",
      "['(SMS)', 'a', 'also', 'and', 'and', 'Android,', 'application', 'available', 'chat', 'computers.', 'devices.', 'enable', 'Facebook', 'functionality', 'instantly', 'integrates', 'iOS', 'is', 'messaging', 'messaging', 'Messenger', 'Messenger', 'Messenger.', 'mobile-to-mobile', 'on', 'on', 'online', 'or', 'others', 'people', 'personal', 'Phone', 'reach', 'seamlessly', 'similarly', 'texting', 'to', 'to', 'to', 'Windows', 'with', 'works']\n",
      "[]\n",
      "['a', 'allows', 'and', 'Android,', 'application', 'BlackBerry,', 'cross-platform', 'devices.', 'exchange', 'iOS,', 'is', 'messages', 'messaging', 'Messenger', 'mobile', 'Nokia', 'on', 'people', 'Phone,', 'that', 'to', 'WhatsApp', 'WhatsApp.', 'Windows']\n",
      "[]\n",
      "['Create', 'for', 'How', 'Marketers', 'Value', 'We']\n",
      "['achieve', 'all', 'and', 'and', 'awareness', 'brand,', 'brand.', 'business', 'businesses,', 'developers.', 'direct', 'driving', 'Facebook', 'focuses', 'for', 'help', 'in-store', 'including', 'is', 'it', 'kinds', 'marketers,', 'medium-sized', 'objectives,', 'of', 'of', 'on', 'online', 'or', 'providing', 'response,', 'sales,', 'sales,', 'small', 'their', 'their', 'them', 'value', 'We', 'whether']\n",
      "[]\n",
      "['a', 'ads', 'ads', 'advertising', 'age,', 'and', 'and', 'and', 'appear', 'based', 'can', 'computers,', 'computers.', 'devices', 'Facebook', 'factors', 'Feed', 'from', 'gender,', 'generate', 'in', 'in', 'including', 'including', 'interests.', 'let', 'location,', 'majority', 'marketers', 'Marketers', 'marketers.', 'mobile', 'multiple', 'News', 'of', 'of', 'of', 'on', 'on', 'on', 'on', 'our', 'Our', 'people', 'personal', 'personal', 'placements', 'places', 'purchase', 'reach', 'revenue', 'right-hand', 'selling', 'side', 'substantial', 'that', 'the', 'the', 'to', 'variety', 'We']\n",
      "[]\n",
      "['ad', 'ad', 'ad', 'ad', 'ad', 'ad', 'addition', 'ads', 'ads', 'ads', 'align', 'also', 'also', 'an', 'and', 'and', 'and', 'and', 'and', 'and', 'applications', 'are', 'as', 'Atlas,', 'Audience', 'available', 'based', 'best', 'both', 'budget,', 'business', 'but', 'buy', 'campaign', 'campaigns', 'campaigns.', 'can', 'can', 'can', 'create', 'designed', 'determines', 'dimensions.', 'drove', 'dynamically', 'each', \"Facebook's\", 'Facebook,', 'Facebook,', 'goals.', 'help', 'help', 'how', 'improve', 'In', 'in-store', 'insights', 'insights', 'Instagram', 'LiveRail.', 'make', 'marketers', 'Marketers', 'marketers', 'marketers', \"marketers'\", 'marketing', 'measure', 'modifications', 'Network,', 'not', 'objectives', 'of', 'of', 'on', 'on', 'on', 'on', 'on', 'online', 'only', 'optimize', 'other', 'Our', 'our', 'people', 'performance', 'person', 'planning', \"platform's\", 'reach.', 'results', 'results.', 'serving', 'show', 'specify', 'such', 'technology', 'the', 'the', 'the', 'their', 'their', 'their', 'their', 'them', 'then', 'These', 'they', 'they', 'those', 'those', 'to', 'to', 'to', 'to', 'to', 'to', 'to', 'tools', 'types', 'understand', 'use', 'want', 'websites', 'When', 'with']\n",
      "[]\n",
      "['Create', 'Developers', 'for', 'How', 'Value', 'We']\n",
      "['\\x19', '(APIs)', 'a', 'a', 'able', 'across', 'ads', 'ads', 'ads,', 'advertisers', 'an', 'an', 'and', 'and', 'and', 'and', 'and', 'and', 'and', 'and', 'and', 'and', 'application', 'application', 'application', 'application', 'application.', 'applications', 'applications', 'applications', 'applications', 'applications.', 'applications.', 'are', 'as', 'as', 'as', 'Audience', 'build,', 'by', 'By', 'by', 'by', 'create', 'developers', 'developers', 'developers', 'developers', 'developers', 'developers', 'developersb', 'development', 'devices.', 'discovery', 'distribution', 'drive', 'easily', 'easy-to-use,', 'efforts', 'enable', 'enables', 'engagement', 'engagement.', 'environment,', 'exposure,', 'Facebook', 'Facebook', 'Facebook', 'Facebook', 'Finally,', 'First,', 'for', 'from', 'from', 'from', 'grow', 'grow,', 'have', 'help', 'help', 'in', 'increase', 'infrastructure', 'integrate', 'interfaces', 'invites,', 'messaging,', 'mobile', 'mobile', 'mobile', 'mobile', 'mobile', 'mobile', 'monetize', 'monetize', 'monetize', 'Network,', 'number', 'of', 'of', 'of', 'online', 'or', 'our', 'our', 'Payments', 'payments', 'people', 'platforms', 'plugins,', 'programming', 'provide', 'providing', 'providing', 'receive', 'requests,', 'Second,', 'secure,', 'set', 'sharing,', 'showing', 'social', 'such', 'such', 'supports', 'that', 'that', 'the', 'their', 'their', 'their', 'their', 'their', 'them', 'to', 'to', 'to', 'to', 'to', 'to', 'to', 'tools', 'tools', 'tools,', 'trusted', 'use', 'user', 'using', 'ways', 'we', 'we', 'we', 'web', 'web', 'web', 'web', 'well', 'where', 'who', 'with', 'with', 'within']\n",
      "[]\n",
      "['a', 'ads', 'ads', 'advertisers', 'also', 'and', 'and', 'applications', 'Audience', 'choose', 'computers.', 'developers', 'developers', 'developers', 'digital', 'Facebook', 'Facebook', 'from', 'from', 'from', 'from', 'from', 'generate', 'generate', 'goods', 'in', 'infrastructure', 'Network.', 'of', 'on', 'our', 'our', 'Payments', 'people', 'personal', 'portion', 'purchase', 'receive', 'revenue', 'revenue', 'revenue', 'sell', 'show', 'the', 'their', 'to', 'to', 'to', 'us,', 'use', 'use', 'virtual', 'We', 'We', 'we', 'who', 'who', 'who', 'who', 'within']\n"
     ]
    }
   ],
   "source": [
    "f = open('data.txt')\n",
    "for line in f:\n",
    "    line = line.rstrip('\\n').strip('\\t')\n",
    "    line_sorted = sorted(line.split(), key=str.lower)\n",
    "    print(line_sorted)\n",
    "    #print(line)\n"
   ]
  },
  {
   "cell_type": "code",
   "execution_count": 57,
   "metadata": {},
   "outputs": [
    {
     "name": "stdout",
     "output_type": "stream",
     "text": [
      "We generate revenue from developers who use our Payments infrastructure to sell virtual and digital goods to people who use Facebook on personal computers. We also generate revenue from developers who choose to purchase ads from us, and we receive a portion of the revenue from developers who show ads from Facebook advertisers in their applications within our Audience Network.\n"
     ]
    }
   ],
   "source": [
    "#file = open(\"data.txt\")\n",
    "\n",
    "def main():\n",
    "    text = get_text()\n",
    "    print(text)\n",
    "def get_text():\n",
    "    f = open('data.txt')\n",
    "    for line in f:\n",
    "        line = line.rstrip('\\n')    \n",
    "        #print(line)\n",
    "    return line\n",
    "\n",
    "main()"
   ]
  },
  {
   "cell_type": "code",
   "execution_count": null,
   "metadata": {},
   "outputs": [],
   "source": []
  },
  {
   "cell_type": "code",
   "execution_count": null,
   "metadata": {},
   "outputs": [],
   "source": []
  }
 ],
 "metadata": {
  "kernelspec": {
   "display_name": "Python 3",
   "language": "python",
   "name": "python3"
  },
  "language_info": {
   "codemirror_mode": {
    "name": "ipython",
    "version": 3
   },
   "file_extension": ".py",
   "mimetype": "text/x-python",
   "name": "python",
   "nbconvert_exporter": "python",
   "pygments_lexer": "ipython3",
   "version": "3.7.3"
  }
 },
 "nbformat": 4,
 "nbformat_minor": 2
}
