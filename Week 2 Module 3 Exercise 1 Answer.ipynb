{
 "cells": [
  {
   "cell_type": "markdown",
   "metadata": {},
   "source": [
    "# a. What is the average US Gross of movies in the dataset?"
   ]
  },
  {
   "cell_type": "markdown",
   "metadata": {},
   "source": [
    "## loading the data:"
   ]
  },
  {
   "cell_type": "code",
   "execution_count": 2,
   "metadata": {},
   "outputs": [
    {
     "name": "stdout",
     "output_type": "stream",
     "text": [
      "Release_Date\tMovie\tDistributor\tBudget\tUS Gross\tWorldwide Gross\n",
      "\n"
     ]
    }
   ],
   "source": [
    "#To solve this problem, first load the data like we did in the lesson itself. \n",
    "#Then, figure out what operation you need to take on each row: \n",
    "#summing up for \n",
    "#(a); checking a condition and then counting for \n",
    "#(b), and adding to a dictionary and then counting for \n",
    "#(c). Once you've determined that, iterate over all the rows and apply \n",
    "#your operation.\n",
    "\n",
    "# First we import the tools we'll need\n",
    "import datetime as dt\n",
    "\n",
    "# Next, we define the utility functions we're going to use:\n",
    "\n",
    "def convert_to_int(text):\n",
    "    '''\n",
    "    Convert a string to an integer\n",
    "    '''\n",
    "    try:\n",
    "        return int(text)\n",
    "    except:\n",
    "        return None\n",
    "\n",
    "def make_date(date_str):\n",
    "    '''\n",
    "    Turn a MM/DD/YY string into a datetime object\n",
    "    '''\n",
    "    m, d, y = date_str.split(\"/\")\n",
    "    m = int(m)\n",
    "    d = int(d)\n",
    "    y = int(y)\n",
    "    if y > 13:\n",
    "        y += 1900\n",
    "    else:\n",
    "        y += 2000\n",
    "    return dt.datetime(y, m, d)\n",
    "\n",
    "# Now we open the data:\n",
    "f = open(\"MovieData.csv\")\n",
    "data = []\n",
    "print(f.readline()) # Skip the first row\n",
    "for row in f: \n",
    "    row =  row.split(\"\\t\")\n",
    "    row[0] = make_date(row[0])\n",
    "    row[3] = convert_to_int(row[3]) # Budget\n",
    "    row[4] = convert_to_int(row[4]) # US Gross\n",
    "    row[5] = convert_to_int(row[5]) # Worldwide Gross\n",
    "    data.append(row)\n",
    "\n",
    "#Release_Date\tMovie\tDistributor\tBudget\tUS Gross\tWorldwide Gross\n",
    "\n"
   ]
  },
  {
   "cell_type": "markdown",
   "metadata": {},
   "source": [
    "# a)"
   ]
  },
  {
   "cell_type": "code",
   "execution_count": 3,
   "metadata": {},
   "outputs": [
    {
     "name": "stdout",
     "output_type": "stream",
     "text": [
      "44185793.44224795\n"
     ]
    }
   ],
   "source": [
    "#To calculate the average movie gross, \n",
    "#we first need to get all the movie grosses. \n",
    "#Remember (or check) that the US Gross is in column 4.\n",
    "\n",
    "#Note: if you try to add None to a number you'll get an error; you need to check for that, or use try/except, to handle None entries. We also should count only the rows where the gross is present, and not those where it is missing.\n",
    "\n",
    "total = 0.0 # Make it a float, to make division work\n",
    "count = 0 # Increase by 1 for every row with a gross.\n",
    "for row in data:\n",
    "    try:\n",
    "        total += row[4]\n",
    "        count += 1\n",
    "    except:\n",
    "        pass # Do nothing\n",
    "\n",
    "print(total / count)\n",
    "\n"
   ]
  },
  {
   "cell_type": "markdown",
   "metadata": {},
   "source": [
    "# How many movies in the dataset have budgets greater than $20 million?"
   ]
  },
  {
   "cell_type": "markdown",
   "metadata": {},
   "source": [
    "# b)"
   ]
  },
  {
   "cell_type": "code",
   "execution_count": 4,
   "metadata": {},
   "outputs": [
    {
     "name": "stdout",
     "output_type": "stream",
     "text": [
      "1657\n"
     ]
    }
   ],
   "source": [
    "#This is even simpler; for each row, \n",
    "#check the budget and keep a count of how many budgets \n",
    "#are greater than 20 million.\n",
    "\n",
    "big_budget = 0 # Counter for how many rows meet our criteria\n",
    "for row in data:\n",
    "    if row[3] > 20000000: # Check the budget size\n",
    "        big_budget += 1 \n",
    "print(big_budget)\n",
    "\n"
   ]
  },
  {
   "cell_type": "code",
   "execution_count": null,
   "metadata": {},
   "outputs": [],
   "source": []
  }
 ],
 "metadata": {
  "kernelspec": {
   "display_name": "Python 3",
   "language": "python",
   "name": "python3"
  },
  "language_info": {
   "codemirror_mode": {
    "name": "ipython",
    "version": 3
   },
   "file_extension": ".py",
   "mimetype": "text/x-python",
   "name": "python",
   "nbconvert_exporter": "python",
   "pygments_lexer": "ipython3",
   "version": "3.7.3"
  }
 },
 "nbformat": 4,
 "nbformat_minor": 2
}
