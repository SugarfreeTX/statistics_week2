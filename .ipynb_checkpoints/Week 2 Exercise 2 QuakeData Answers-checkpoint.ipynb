{
 "cells": [
  {
   "cell_type": "markdown",
   "metadata": {},
   "source": [
    "### Load the earthquake data in QuakeData.csv, and use it to answer the following questions:"
   ]
  },
  {
   "cell_type": "markdown",
   "metadata": {},
   "source": [
    "### a. How many earthquakes are in the dataset?"
   ]
  },
  {
   "cell_type": "markdown",
   "metadata": {},
   "source": [
    "This question calls on you to apply the techniques you learned in the lesson to a new dataset, with different columns. The steps will be roughly the same, with some tweaking to fit the new data."
   ]
  },
  {
   "cell_type": "markdown",
   "metadata": {},
   "source": [
    "### loading the data:"
   ]
  },
  {
   "cell_type": "code",
   "execution_count": 1,
   "metadata": {},
   "outputs": [
    {
     "name": "stdout",
     "output_type": "stream",
     "text": [
      "DateTime,Latitude,Longitude,Depth,Magnitude,MagType,NbStations,Gap,Distance,RMS,Source,EventID,Version\n",
      "\n",
      "2012-01-01T00:30:08.770+00:00,12.008,143.487,35.0,5.1,mb,178,45,,1.20,pde,pde20120101003008770_35,1363392487731\n",
      "\n",
      "2012-01-01T00:43:42.770+00:00,12.014,143.536,35.0,4.4,mb,29,121,,0.98,pde,pde20120101004342770_35,1363392488431\n",
      "\n",
      "2012-01-01T00:50:08.040+00:00,-11.366,166.218,67.5,5.3,mb,143,43,,0.82,pde,pde20120101005008040_67,1363392488479\n",
      "\n",
      "2012-01-01T01:22:07.660+00:00,-6.747,130.008,145.0,4.2,mb,14,112,,1.16,pde,pde20120101012207660_145,1363392488594\n",
      "\n"
     ]
    }
   ],
   "source": [
    "#Like before, the first thing to do is to look at the first few rows of data \n",
    "#and see how it's structured.\n",
    "\n",
    "f = open(\"QuakeData.csv\")\n",
    "# Print the top few rows to see the format\n",
    "for i in range(5):\n",
    "    print(f.readline()) # Get the columns\n",
    "\n"
   ]
  },
  {
   "cell_type": "code",
   "execution_count": 2,
   "metadata": {},
   "outputs": [
    {
     "name": "stdout",
     "output_type": "stream",
     "text": [
      "['DateTime', 'Latitude', 'Longitude', 'Depth', 'Magnitude', 'MagType', 'NbStations', 'Gap', 'Distance', 'RMS', 'Source', 'EventID', 'Version\\n']\n"
     ]
    }
   ],
   "source": [
    "#Again, we see that the first row contains the column names. \n",
    "#Unlike the Movie data, however, the values are separated with commas, \n",
    "#not tabs.\n",
    "\n",
    "#Since it isn't clear what data type to expect from each column, \n",
    "#I'm going to do something a bit different here, \n",
    "#and have a function that tries to convert each record to a floating-point \n",
    "#number, and returns a string if it fails. \n",
    "#I'll also use list comprehension to make the row conversion faster.\n",
    "\n",
    "\n",
    "\n",
    "def convert(record):\n",
    "    try:\n",
    "        return float(record)\n",
    "    except:\n",
    "        return record\n",
    "\n",
    "data = []\n",
    "f = open(\"QuakeData.csv\")\n",
    "print(f.readline().split(\",\")) # Print the column headers\n",
    "for row in f:\n",
    "    row = row.split(\",\") # Split on commas\n",
    "    row = [convert(x) for x in row] # Convert each entry\n",
    "    data.append(row)\n",
    "\n"
   ]
  },
  {
   "cell_type": "markdown",
   "metadata": {},
   "source": [
    "# a)"
   ]
  },
  {
   "cell_type": "code",
   "execution_count": 3,
   "metadata": {},
   "outputs": [
    {
     "name": "stdout",
     "output_type": "stream",
     "text": [
      "12684\n"
     ]
    }
   ],
   "source": [
    "#Each row corresponds to a single earthquake, so a count of quakes \n",
    "#is just a count of rows -- which is just the length of the data list:\n",
    "\n",
    "print(len(data))"
   ]
  },
  {
   "cell_type": "code",
   "execution_count": null,
   "metadata": {},
   "outputs": [],
   "source": []
  }
 ],
 "metadata": {
  "kernelspec": {
   "display_name": "Python 3",
   "language": "python",
   "name": "python3"
  },
  "language_info": {
   "codemirror_mode": {
    "name": "ipython",
    "version": 3
   },
   "file_extension": ".py",
   "mimetype": "text/x-python",
   "name": "python",
   "nbconvert_exporter": "python",
   "pygments_lexer": "ipython3",
   "version": "3.7.3"
  }
 },
 "nbformat": 4,
 "nbformat_minor": 2
}
