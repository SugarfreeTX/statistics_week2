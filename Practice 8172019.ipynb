{
 "cells": [
  {
   "cell_type": "markdown",
   "metadata": {},
   "source": [
    "\n",
    "# Question 1\n",
    "\n",
    "Load the MovieData.csv dataset as described in this week's lesson, and use it to find the following values:\n",
    "\n",
    "a. What is the average US Gross of movies in the dataset?\n",
    "\n",
    "b. How many movies in the dataset have budgets greater than $20 million?\n",
    "\n",
    "c. How many movies were released by each film distributor? (Hint: this could be a good place to use dictionaries)\n"
   ]
  },
  {
   "cell_type": "code",
   "execution_count": 46,
   "metadata": {},
   "outputs": [],
   "source": [
    "import datetime as dt\n"
   ]
  },
  {
   "cell_type": "code",
   "execution_count": 47,
   "metadata": {},
   "outputs": [],
   "source": [
    "# Need convert date\n",
    "# Need to convert to int\n",
    "def make_date(date_str):\n",
    "    m, d, y = date_str.split(\"/\")\n",
    "    m = int(m)\n",
    "    d = int(d)\n",
    "    y = int(y)\n",
    "    if y > 13:\n",
    "        y += 1900\n",
    "    else:\n",
    "        y += 2000\n",
    "    return dt.datetime(y, m, d)\n",
    "\n",
    "def convert_to_int(text):\n",
    "    try:\n",
    "        return int(text)\n",
    "    except:\n",
    "        return None"
   ]
  },
  {
   "cell_type": "code",
   "execution_count": 48,
   "metadata": {},
   "outputs": [
    {
     "name": "stdout",
     "output_type": "stream",
     "text": [
      "Release_Date\tMovie\tDistributor\tBudget\tUS Gross\tWorldwide Gross\n",
      "\n",
      "03/09/12\tJohn Carter\t\t300000000\t66439100\t254439100\n",
      "\n",
      "05/25/07\tPirates of the Caribbean: At World's End\tBuena Vista\t300000000\t309420425\t960996492\n",
      "\n",
      "12/13/13\tThe Hobbit: There and Back Again\tNew Line\t270000000\tUnknown\tUnknown\n",
      "\n",
      "12/14/12\tThe Hobbit: An Unexpected Journey\tNew Line\t270000000\tUnknown\tUnknown\n",
      "\n"
     ]
    }
   ],
   "source": [
    "file = open(\"moviedata.csv\")\n",
    "for line in range(5):\n",
    "    print(file.readline())"
   ]
  },
  {
   "cell_type": "code",
   "execution_count": 49,
   "metadata": {},
   "outputs": [
    {
     "name": "stdout",
     "output_type": "stream",
     "text": [
      "Release_Date\tMovie\tDistributor\tBudget\tUS Gross\tWorldwide Gross\n",
      "\n"
     ]
    }
   ],
   "source": [
    "file = open(\"moviedata.csv\")\n",
    "rows = []\n",
    "print(file.readline())\n",
    "for raw_row in file:\n",
    "    row = raw_row.split(\"\\t\")\n",
    "    row[0] = make_date(row[0])\n",
    "    for i in range(3, 6):\n",
    "        row[i] = convert_to_int(row[i])\n",
    "    rows.append(row)"
   ]
  },
  {
   "cell_type": "code",
   "execution_count": 50,
   "metadata": {},
   "outputs": [
    {
     "name": "stdout",
     "output_type": "stream",
     "text": [
      "[datetime.datetime(2012, 3, 9, 0, 0), 'John Carter', '', 300000000, 66439100, 254439100]\n"
     ]
    }
   ],
   "source": [
    "print(rows[0])"
   ]
  },
  {
   "cell_type": "code",
   "execution_count": 51,
   "metadata": {},
   "outputs": [
    {
     "name": "stdout",
     "output_type": "stream",
     "text": [
      "44185793.44224795\n",
      "1657.0\n"
     ]
    }
   ],
   "source": [
    "# Split data into columns for computations.\n",
    "all_us_gross = [row[4] for row in rows]\n",
    "all_budget = [row[3] for row in rows]\n",
    "# Need US Gross Average \n",
    "total = 0.0 \n",
    "count = 0.0\n",
    "for row in rows:\n",
    "    try:\n",
    "        total += row[4] # loop and add values. \n",
    "        count += 1 # keep count where there is value. \n",
    "    except: \n",
    "        pass # do nothing if null. \n",
    "print(total / count)\n",
    "# Also need Budget greater than $20 mil\n",
    "big_budget = 0.0 # If you're counting, always need a counter initl. \n",
    "for row in rows:\n",
    "    if row[3] > 20000000:\n",
    "        big_budget += 1\n",
    "print(big_budget)"
   ]
  },
  {
   "cell_type": "code",
   "execution_count": 52,
   "metadata": {},
   "outputs": [
    {
     "name": "stdout",
     "output_type": "stream",
     "text": [
      "44185793.44224795\n"
     ]
    }
   ],
   "source": [
    "total = 0.0\n",
    "count = 0.0\n",
    "for x in all_us_gross:\n",
    "    try:\n",
    "        total += x # add values together to a total\n",
    "        count += 1 # count how many values are being added\n",
    "    except:\n",
    "        pass # do nothing when null \n",
    "print(total/count)\n",
    "\n",
    "    "
   ]
  },
  {
   "cell_type": "code",
   "execution_count": 53,
   "metadata": {},
   "outputs": [
    {
     "name": "stdout",
     "output_type": "stream",
     "text": [
      "1657.0\n"
     ]
    }
   ],
   "source": [
    "# find how many movies have budgets greater than $20 mil.\n",
    "# since we have count need to create variable with a counter/initl set to 0.0\n",
    "big_budget = 0.0\n",
    "for x in all_budget:\n",
    "    if x > 20000000:\n",
    "        big_budget += 1 # when counting how many use 1 to keep adding. \n",
    "print(big_budget)"
   ]
  },
  {
   "cell_type": "code",
   "execution_count": 54,
   "metadata": {},
   "outputs": [],
   "source": [
    "all_distributors = [row[2] for row in rows]"
   ]
  },
  {
   "cell_type": "code",
   "execution_count": 55,
   "metadata": {},
   "outputs": [
    {
     "name": "stdout",
     "output_type": "stream",
     "text": [
      " 659\n",
      "Buena Vista 227\n",
      "New Line 138\n",
      "Sony 312\n",
      "Warner Bros. 311\n",
      "20th Century Fox 230\n",
      "Sony Pictures 2\n",
      "Paramount Pictures 258\n",
      "Universal 261\n",
      "Walt Disney Co. 9\n",
      "Columbia 26\n",
      "DreamWorks SKG 78\n",
      "MGM/UA 137\n",
      "Miramax 135\n",
      "Lionsgate 13\n",
      "Polygram Films 5\n",
      "Weinstein Co. 33\n",
      "United Artists 23\n",
      "Summit 11\n",
      "Lion's Gate 79\n",
      "TriStar Pictures 4\n",
      "DEJ Productions 1\n",
      "Warner Independent 3\n",
      "Weinstein 1\n",
      "Dimension Films 2\n",
      "Focus Features 36\n",
      "Third Rail 2\n",
      "Sony/Tristar 1\n",
      "Paramount Vantage 3\n",
      "Orion 17\n",
      "USA Films 15\n",
      "Dimension 28\n",
      "Sony Classics 78\n",
      "Magnolia 15\n",
      "Artisan 23\n",
      "Summit Entertainment 3\n",
      "MGM 3\n",
      "RS Entertainment 1\n",
      "CBS Films 3\n",
      "Freestyle 2\n",
      "Senator Films 1\n",
      "Fox Searchlight 65\n",
      "Warner Independent Pictures 7\n",
      "Sony/Gems 1\n",
      "Sony/Screen Gems 1\n",
      "Relativity 1\n",
      "New Market 7\n",
      "Rogue 1\n",
      "FilmDistrict 1\n",
      "ThinkFilm 9\n",
      "Gramercy 12\n",
      "Overture 6\n",
      "Savoy 3\n",
      "8 X Entertainment 1\n",
      "Fine Line 16\n",
      "Walt Disney Pictures 1\n",
      "Paramount Classics 12\n",
      "Destination 4\n",
      "Cloud Ten Pictures 1\n",
      "Filmways 2\n",
      "Weintraub 2\n",
      "IFC Films 20\n",
      "Galactic 1\n",
      "Film Foundry 1\n",
      "Samuel Goldwyn 9\n",
      "Picturehouse 6\n",
      "Alliance 4\n",
      "Disney 1\n",
      "Barking Cow 1\n",
      "Weinstein/Dimension 1\n",
      "Kino 5\n",
      "Destination Films 2\n",
      "Strand 8\n",
      "Newmarket Films 1\n",
      "Music Box 1\n",
      "First Look 9\n",
      "Consolidated Pictures Group 1\n",
      "October 6\n",
      "IDP 2\n",
      "Live Entertainment 3\n",
      "Screen Gems 1\n",
      "Embassy 1\n",
      "Cannon 4\n",
      "WinStar 1\n",
      "Goldwyn 6\n",
      "Black Diamond Pictures 1\n",
      "Eros 5\n",
      "First Independent Pictures 1\n",
      "Paladin 1\n",
      "WellSpring 2\n",
      "Roadside Attractions 4\n",
      "New Yorker 2\n",
      "Anchor Bay 4\n",
      "Universal/Rogue 1\n",
      "Apparition 4\n",
      "Strand Releasing 2\n",
      "Weinstein Ci. 1\n",
      "Cinema Service 1\n",
      "Trimark 9\n",
      "PION 1\n",
      "Wellspring 1\n",
      "Excel Entertainment 5\n",
      "Providence 2\n",
      "Giant 1\n",
      "Freestyle/Darko 1\n",
      "Roadside 2\n",
      "Indican 7\n",
      "Inerstar 1\n",
      "Yash Raj 1\n",
      "Avco Embassy 5\n",
      "Triumph 1\n",
      "Lorimar 2\n",
      "RKO 2\n",
      "Zeitgeist 7\n",
      "Oscilloscope 2\n",
      "Palm/Manga 1\n",
      "Lions Gate/IFC Films/Fellowship Adventure Group 1\n",
      "3D Entertainment 1\n",
      "Galaxy 1\n",
      "Cowboy 7\n",
      "October Films 1\n",
      "American International Pictures 1\n",
      "LIONS 1\n",
      "New Century Vista Film Company 1\n",
      "Hemdale Film Coorporation 1\n",
      "Tartan 1\n",
      "Palm Pictures 3\n",
      "Big Pictures 1\n",
      "IDP/Gold Circle 1\n",
      "Independent Artists 1\n",
      "Overture Films 1\n",
      "Empire 1\n",
      "Universal/Arenas Entertainment 1\n",
      "Phaedra 2\n",
      "New World 5\n",
      "CHRIST 1\n",
      "United Film Distribution 2\n",
      "Legacy 1\n",
      "Atlantic 1\n",
      "Regent Releasing 1\n",
      "Good Machine 1\n",
      "Attitude Films 1\n",
      "Odeon 1\n",
      "Shooting Gallery 1\n",
      "Small Planet 1\n",
      "Palisades Entertainment 1\n",
      "Access 1\n",
      "MORO 1\n",
      "Island/Alive 1\n",
      "Off Hollywood Pictures 1\n",
      "Artistic License 1\n",
      "IDP/Goldwyn 2\n",
      "Samuel Goldwyn Films 1\n",
      "Monterey Media 1\n",
      "New Films Int'l 1\n",
      "Bigger Picture 1\n",
      "NORTH 1\n",
      "Lions Gate 1\n",
      "David Keith Co. 1\n",
      "NEW LTN 1\n",
      "Roxie Releasing 1\n",
      "Videos 1\n",
      "Stratosphere 1\n",
      "Vitagraph Films 2\n",
      "Film Movement 2\n",
      "RBC Radio, LLC 1\n",
      "Romar 1\n",
      "Regent 1\n",
      "Rogue Pictures 1\n",
      "TLA Releasing 1\n",
      "Five and Two Pictures 1\n",
      "Rainforest Films 1\n",
      "Film Sales Co. 1\n",
      "Magnolia Pictures 1\n",
      "First Look Pictures 1\n",
      "Lot 47 1\n",
      "RED HOR 1\n",
      "The Movie Partners 1\n",
      "OpenEdge Media 1\n",
      "Mulberry Square Releasing 1\n",
      "J.F. Prods 1\n",
      "Halestorm 1\n",
      "Halestorm Entertainment 1\n",
      "CFP 1\n",
      "Fabrication Films 1\n",
      "New World Pictures 1\n",
      "Zion 1\n",
      "ART 1\n",
      "Painted Zebra Releasing 1\n",
      "Shotwell Media 1\n",
      "Outrider Pictures 1\n",
      "RAIN 1\n",
      "Island 1\n",
      "Testimony Pictures 1\n",
      "INWOO 1\n",
      "Off-Hollywood Distribution 1\n",
      "Jerry Gross Organization 1\n",
      "Avatar 1\n",
      "IDP/Sam Goldwyn 1\n",
      "Power Point 1\n",
      "IDP/Stratosphere 1\n",
      "Damiano 1\n",
      "Orion Classics 1\n",
      "JeTi Films 1\n",
      "Lavender House 1\n",
      "Cinema con Sabor 1\n",
      "Winstar 1\n",
      "Truly Indie 1\n",
      "CustomFlix 1\n"
     ]
    }
   ],
   "source": [
    "# c. How many movies were released by each film distributor? \n",
    "# Create dictionary to keep track of the distributors \n",
    "# need a count, if-else, \n",
    "\n",
    "distributors = {}\n",
    "for row in rows:\n",
    "    distributor = row[2]\n",
    "    if distributor in distributors:\n",
    "        distributors[distributor] += 1\n",
    "    else:\n",
    "        distributors[distributor] = 1\n",
    "\n",
    "for distributor in distributors:\n",
    "    print(distributor, distributors[distributor])"
   ]
  },
  {
   "cell_type": "code",
   "execution_count": null,
   "metadata": {},
   "outputs": [],
   "source": []
  }
 ],
 "metadata": {
  "kernelspec": {
   "display_name": "Python 3",
   "language": "python",
   "name": "python3"
  },
  "language_info": {
   "codemirror_mode": {
    "name": "ipython",
    "version": 3
   },
   "file_extension": ".py",
   "mimetype": "text/x-python",
   "name": "python",
   "nbconvert_exporter": "python",
   "pygments_lexer": "ipython3",
   "version": "3.7.3"
  }
 },
 "nbformat": 4,
 "nbformat_minor": 2
}
